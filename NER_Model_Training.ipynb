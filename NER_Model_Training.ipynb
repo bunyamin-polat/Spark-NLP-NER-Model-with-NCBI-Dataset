{
  "nbformat": 4,
  "nbformat_minor": 0,
  "metadata": {
    "colab": {
      "name": "NER Model Training.ipynb",
      "provenance": [],
      "collapsed_sections": [],
      "mount_file_id": "1rPZZyKg9K272lMvD0svZiN09nc8RRP1U",
      "authorship_tag": "ABX9TyPVfdkPEr29WXkUmDXKUBO4",
      "include_colab_link": true
    },
    "kernelspec": {
      "name": "python3",
      "display_name": "Python 3"
    },
    "language_info": {
      "name": "python"
    },
    "accelerator": "GPU"
  },
  "cells": [
    {
      "cell_type": "markdown",
      "metadata": {
        "id": "view-in-github",
        "colab_type": "text"
      },
      "source": [
        "<a href=\"https://colab.research.google.com/github/bunyamin-polat/Spark-NLP-NER-Model-with-NCBI-disease/blob/main/NER_Model_Training.ipynb\" target=\"_parent\"><img src=\"https://colab.research.google.com/assets/colab-badge.svg\" alt=\"Open In Colab\"/></a>"
      ]
    },
    {
      "cell_type": "markdown",
      "source": [
        "# Colab Setup"
      ],
      "metadata": {
        "id": "O-2C8zYYtN4b"
      }
    },
    {
      "cell_type": "code",
      "execution_count": null,
      "metadata": {
        "colab": {
          "base_uri": "https://localhost:8080/"
        },
        "id": "PWYKYIr54L7y",
        "outputId": "a6b361c6-4fd0-400a-9b9b-1ccc5ebda6da"
      },
      "outputs": [
        {
          "output_type": "stream",
          "name": "stdout",
          "text": [
            "\u001b[K     |████████████████████████████████| 212.4 MB 69 kB/s \n",
            "\u001b[K     |████████████████████████████████| 140 kB 63.6 MB/s \n",
            "\u001b[K     |████████████████████████████████| 198 kB 18.5 MB/s \n",
            "\u001b[?25h  Building wheel for pyspark (setup.py) ... \u001b[?25l\u001b[?25hdone\n",
            "\u001b[K     |████████████████████████████████| 95 kB 2.4 MB/s \n",
            "\u001b[K     |████████████████████████████████| 66 kB 4.2 MB/s \n",
            "\u001b[?25h"
          ]
        }
      ],
      "source": [
        "! pip install -q pyspark==3.1.2 spark-nlp\n",
        "\n",
        "! pip install -q spark-nlp-display"
      ]
    },
    {
      "cell_type": "code",
      "source": [
        "import sparknlp\n",
        "\n",
        "spark = sparknlp.start(gpu = True) \n",
        "\n",
        "from sparknlp.base import *\n",
        "from sparknlp.annotator import *\n",
        "import pyspark.sql.functions as F\n",
        "from sparknlp.training import CoNLL\n",
        "\n",
        "print(\"Spark NLP version\", sparknlp.version())\n",
        "\n",
        "print(\"Apache Spark version:\", spark.version)\n",
        "\n",
        "spark"
      ],
      "metadata": {
        "colab": {
          "base_uri": "https://localhost:8080/",
          "height": 254
        },
        "id": "FxClOcPr5sAo",
        "outputId": "1686190d-2ed2-489f-a5f2-813e8cfa0c85"
      },
      "execution_count": null,
      "outputs": [
        {
          "output_type": "stream",
          "name": "stdout",
          "text": [
            "Spark NLP version 3.4.0\n",
            "Apache Spark version: 3.1.2\n"
          ]
        },
        {
          "output_type": "execute_result",
          "data": {
            "text/html": [
              "\n",
              "            <div>\n",
              "                <p><b>SparkSession - in-memory</b></p>\n",
              "                \n",
              "        <div>\n",
              "            <p><b>SparkContext</b></p>\n",
              "\n",
              "            <p><a href=\"http://2c4c2a59dd01:4040\">Spark UI</a></p>\n",
              "\n",
              "            <dl>\n",
              "              <dt>Version</dt>\n",
              "                <dd><code>v3.1.2</code></dd>\n",
              "              <dt>Master</dt>\n",
              "                <dd><code>local[*]</code></dd>\n",
              "              <dt>AppName</dt>\n",
              "                <dd><code>Spark NLP</code></dd>\n",
              "            </dl>\n",
              "        </div>\n",
              "        \n",
              "            </div>\n",
              "        "
            ],
            "text/plain": [
              "<pyspark.sql.session.SparkSession at 0x7f044045a250>"
            ]
          },
          "metadata": {},
          "execution_count": 2
        }
      ]
    },
    {
      "cell_type": "markdown",
      "source": [
        "# CoNLL Train & Test Data Import"
      ],
      "metadata": {
        "id": "GuVoHI1ctWAy"
      }
    },
    {
      "cell_type": "code",
      "source": [
        "!wget -q https://raw.githubusercontent.com/JohnSnowLabs/spark-nlp-workshop/master/tutorials/Certification_Trainings/Healthcare/data/NCBI_disease_official_test.conll\n",
        "!wget -q https://raw.githubusercontent.com/JohnSnowLabs/spark-nlp-workshop/master/tutorials/Certification_Trainings/Healthcare/data/NCBI_disease_official_train_dev.conll"
      ],
      "metadata": {
        "id": "hZU2K2Z4tKoY"
      },
      "execution_count": null,
      "outputs": []
    },
    {
      "cell_type": "code",
      "source": [
        "with open (\"NCBI_disease_official_train_dev.conll\") as f:\n",
        "  train_data = f.read()"
      ],
      "metadata": {
        "id": "bthpI0aGtYtN"
      },
      "execution_count": null,
      "outputs": []
    },
    {
      "cell_type": "code",
      "source": [
        "train_data = CoNLL().readDataset(spark, 'NCBI_disease_official_train_dev.conll')\n",
        "\n",
        "train_data.show(3)"
      ],
      "metadata": {
        "colab": {
          "base_uri": "https://localhost:8080/"
        },
        "id": "GCv6h3Xeuvwi",
        "outputId": "c5d14631-a0ad-4c99-896b-27a75e432eb1"
      },
      "execution_count": null,
      "outputs": [
        {
          "output_type": "stream",
          "name": "stdout",
          "text": [
            "+--------------------+--------------------+--------------------+--------------------+--------------------+--------------------+\n",
            "|                text|            document|            sentence|               token|                 pos|               label|\n",
            "+--------------------+--------------------+--------------------+--------------------+--------------------+--------------------+\n",
            "|Identification of...|[{document, 0, 89...|[{document, 0, 89...|[{token, 0, 13, I...|[{pos, 0, 13, NN,...|[{named_entity, 0...|\n",
            "|The adenomatous p...|[{document, 0, 21...|[{document, 0, 21...|[{token, 0, 2, Th...|[{pos, 0, 2, NN, ...|[{named_entity, 0...|\n",
            "|Complex formation...|[{document, 0, 63...|[{document, 0, 63...|[{token, 0, 6, Co...|[{pos, 0, 6, NN, ...|[{named_entity, 0...|\n",
            "+--------------------+--------------------+--------------------+--------------------+--------------------+--------------------+\n",
            "only showing top 3 rows\n",
            "\n"
          ]
        }
      ]
    },
    {
      "cell_type": "code",
      "source": [
        "train_data.count()"
      ],
      "metadata": {
        "colab": {
          "base_uri": "https://localhost:8080/"
        },
        "id": "oUxXx7NEu86m",
        "outputId": "ad3234e2-815d-4e25-d826-ee9bf33b5a24"
      },
      "execution_count": null,
      "outputs": [
        {
          "output_type": "execute_result",
          "data": {
            "text/plain": [
              "6347"
            ]
          },
          "metadata": {},
          "execution_count": 6
        }
      ]
    },
    {
      "cell_type": "code",
      "source": [
        "train_data.select(F.explode(F.arrays_zip('token.result', 'pos.result',  'label.result')).alias(\"cols\")) \\\n",
        ".select(F.expr(\"cols['0']\").alias(\"token\"),\n",
        "        F.expr(\"cols['1']\").alias(\"pos\"),\n",
        "        F.expr(\"cols['2']\").alias(\"ner_label\")).show(truncate=50)"
      ],
      "metadata": {
        "colab": {
          "base_uri": "https://localhost:8080/"
        },
        "id": "Jb9O1ezSvkW7",
        "outputId": "b7e57c2e-f011-42b9-da21-8ff8220ed9f0"
      },
      "execution_count": null,
      "outputs": [
        {
          "output_type": "stream",
          "name": "stdout",
          "text": [
            "+--------------+---+---------+\n",
            "|         token|pos|ner_label|\n",
            "+--------------+---+---------+\n",
            "|Identification| NN|        O|\n",
            "|            of| NN|        O|\n",
            "|          APC2| NN|        O|\n",
            "|             ,| NN|        O|\n",
            "|             a| NN|        O|\n",
            "|     homologue| NN|        O|\n",
            "|            of| NN|        O|\n",
            "|           the| NN|        O|\n",
            "|   adenomatous| NN|B-Disease|\n",
            "|     polyposis| NN|I-Disease|\n",
            "|          coli| NN|I-Disease|\n",
            "|        tumour| NN|I-Disease|\n",
            "|    suppressor| NN|        O|\n",
            "|             .| NN|        O|\n",
            "|           The| NN|        O|\n",
            "|   adenomatous| NN|B-Disease|\n",
            "|     polyposis| NN|I-Disease|\n",
            "|          coli| NN|I-Disease|\n",
            "|             (| NN|I-Disease|\n",
            "|           APC| NN|I-Disease|\n",
            "+--------------+---+---------+\n",
            "only showing top 20 rows\n",
            "\n"
          ]
        }
      ]
    },
    {
      "cell_type": "code",
      "source": [
        "train_data.select(F.explode(F.arrays_zip(\"token.result\",\"label.result\")).alias(\"cols\")) \\\n",
        ".select(F.expr(\"cols['0']\").alias(\"token\"),\n",
        "        F.expr(\"cols['1']\").alias(\"ground_truth\")).groupBy(\"ground_truth\").count().orderBy(\"count\", ascending=False).show(100,truncate=False)"
      ],
      "metadata": {
        "colab": {
          "base_uri": "https://localhost:8080/"
        },
        "id": "D90yj38EvrG7",
        "outputId": "718e467d-7557-41cd-cfe5-67ca8d9e1645"
      },
      "execution_count": null,
      "outputs": [
        {
          "output_type": "stream",
          "name": "stdout",
          "text": [
            "+------------+------+\n",
            "|ground_truth|count |\n",
            "+------------+------+\n",
            "|O           |146544|\n",
            "|I-Disease   |7205  |\n",
            "|B-Disease   |5921  |\n",
            "+------------+------+\n",
            "\n"
          ]
        }
      ]
    },
    {
      "cell_type": "code",
      "source": [
        "with open (\"NCBI_disease_official_test.conll\") as f:\n",
        "  test_data = f.read()"
      ],
      "metadata": {
        "id": "jsHyGvuku-jf"
      },
      "execution_count": null,
      "outputs": []
    },
    {
      "cell_type": "code",
      "source": [
        "test_data = CoNLL().readDataset(spark, 'NCBI_disease_official_test.conll')\n",
        "\n",
        "test_data.show(3)"
      ],
      "metadata": {
        "colab": {
          "base_uri": "https://localhost:8080/"
        },
        "id": "eUoWEhbOvIx3",
        "outputId": "f89d0afa-30fb-4c50-9c13-dce53f42b0b2"
      },
      "execution_count": null,
      "outputs": [
        {
          "output_type": "stream",
          "name": "stdout",
          "text": [
            "+--------------------+--------------------+--------------------+--------------------+--------------------+--------------------+\n",
            "|                text|            document|            sentence|               token|                 pos|               label|\n",
            "+--------------------+--------------------+--------------------+--------------------+--------------------+--------------------+\n",
            "|Clustering of mis...|[{document, 0, 10...|[{document, 0, 10...|[{token, 0, 9, Cl...|[{pos, 0, 9, NN, ...|[{named_entity, 0...|\n",
            "|Ataxia - telangie...|[{document, 0, 13...|[{document, 0, 13...|[{token, 0, 5, At...|[{pos, 0, 5, NN, ...|[{named_entity, 0...|\n",
            "|The risk of cance...|[{document, 0, 15...|[{document, 0, 15...|[{token, 0, 2, Th...|[{pos, 0, 2, NN, ...|[{named_entity, 0...|\n",
            "+--------------------+--------------------+--------------------+--------------------+--------------------+--------------------+\n",
            "only showing top 3 rows\n",
            "\n"
          ]
        }
      ]
    },
    {
      "cell_type": "code",
      "source": [
        "test_data.count()"
      ],
      "metadata": {
        "colab": {
          "base_uri": "https://localhost:8080/"
        },
        "id": "IuYq1pGcvOUS",
        "outputId": "1fef8aa6-713f-43c2-aec8-f19f65f8e5ea"
      },
      "execution_count": null,
      "outputs": [
        {
          "output_type": "execute_result",
          "data": {
            "text/plain": [
              "940"
            ]
          },
          "metadata": {},
          "execution_count": 11
        }
      ]
    },
    {
      "cell_type": "code",
      "source": [
        "test_data.select(F.explode(F.arrays_zip(\"token.result\",\"label.result\")).alias(\"cols\")) \\\n",
        ".select(F.expr(\"cols['0']\").alias(\"token\"),\n",
        "        F.expr(\"cols['1']\").alias(\"ground_truth\")).groupBy(\"ground_truth\").count().orderBy(\"count\", ascending=False).show(100,truncate=False)"
      ],
      "metadata": {
        "colab": {
          "base_uri": "https://localhost:8080/"
        },
        "id": "g672x2QDvQPH",
        "outputId": "81f86796-b3e0-47e2-b749-ffd34854f167"
      },
      "execution_count": null,
      "outputs": [
        {
          "output_type": "stream",
          "name": "stdout",
          "text": [
            "+------------+-----+\n",
            "|ground_truth|count|\n",
            "+------------+-----+\n",
            "|O           |22450|\n",
            "|I-Disease   |1087 |\n",
            "|B-Disease   |960  |\n",
            "+------------+-----+\n",
            "\n"
          ]
        }
      ]
    },
    {
      "cell_type": "markdown",
      "source": [
        "# NERDL Model with Glove_100d"
      ],
      "metadata": {
        "id": "YXajUaUwdcCj"
      }
    },
    {
      "cell_type": "code",
      "source": [
        "glove_embeddings = WordEmbeddingsModel.pretrained()\\\n",
        "    .setInputCols([\"sentence\", \"token\"])\\\n",
        "    .setOutputCol(\"embeddings\")\n",
        "\n",
        "nerTagger = NerDLApproach()\\\n",
        "    .setInputCols([\"sentence\", \"token\", \"embeddings\"])\\\n",
        "    .setLabelColumn(\"label\")\\\n",
        "    .setOutputCol(\"ner\")\\\n",
        "    .setMaxEpochs(14)\\\n",
        "    .setLr(0.003)\\\n",
        "    .setDropout(0.5)\\\n",
        "    .setBatchSize(10)\\\n",
        "    .setRandomSeed(0)\\\n",
        "    .setValidationSplit(0.2)\\\n",
        "    .setVerbose(1)\\\n",
        "    .setEvaluationLogExtended(True) \\\n",
        "    .setEnableOutputLogs(True)\\\n",
        "    .setIncludeConfidence(True)\\\n",
        "    .setEnableMemoryOptimizer(True)\n",
        "\n",
        "ner_pipeline = Pipeline(stages=[\n",
        "      glove_embeddings,\n",
        "      nerTagger\n",
        "])\n"
      ],
      "metadata": {
        "id": "sGks2eg2dXFv",
        "colab": {
          "base_uri": "https://localhost:8080/"
        },
        "outputId": "2ff52f32-7aae-4303-f502-a4d5624b71ef"
      },
      "execution_count": null,
      "outputs": [
        {
          "output_type": "stream",
          "name": "stdout",
          "text": [
            "glove_100d download started this may take some time.\n",
            "Approximate size to download 145.3 MB\n",
            "[OK!]\n"
          ]
        }
      ]
    },
    {
      "cell_type": "code",
      "source": [
        "%%time\n",
        "\n",
        "ner_model = ner_pipeline.fit(train_data)"
      ],
      "metadata": {
        "id": "Yf2v5V9CWQgp",
        "colab": {
          "base_uri": "https://localhost:8080/"
        },
        "outputId": "ee1268db-c1ae-495f-e963-40d5c177c3cd"
      },
      "execution_count": null,
      "outputs": [
        {
          "output_type": "stream",
          "name": "stdout",
          "text": [
            "CPU times: user 20.1 s, sys: 2.23 s, total: 22.3 s\n",
            "Wall time: 58min 37s\n"
          ]
        }
      ]
    },
    {
      "cell_type": "code",
      "source": [
        "!cd ~/annotator_logs/ && ls -lt"
      ],
      "metadata": {
        "id": "jVdpCudqkg_2",
        "colab": {
          "base_uri": "https://localhost:8080/"
        },
        "outputId": "fc7149ec-47dd-455c-fd89-7f46a9cb69e7"
      },
      "execution_count": null,
      "outputs": [
        {
          "output_type": "stream",
          "name": "stdout",
          "text": [
            "total 8\n",
            "-rw-r--r-- 1 root root 7525 Jan 20 12:17 NerDLApproach_130a4a6af546.log\n"
          ]
        }
      ]
    },
    {
      "cell_type": "code",
      "source": [
        "!cat ~/annotator_logs/NerDLApproach_130a4a6af546.log"
      ],
      "metadata": {
        "id": "72YlyNrPkhCg",
        "colab": {
          "base_uri": "https://localhost:8080/"
        },
        "outputId": "e93d8c71-6d5c-4054-ef42-40b6b1a55a84"
      },
      "execution_count": null,
      "outputs": [
        {
          "output_type": "stream",
          "name": "stdout",
          "text": [
            "Name of the selected graph: ner-dl/blstm_10_100_128_120.pb\n",
            "Training started - total epochs: 14 - lr: 0.003 - batch size: 10 - labels: 3 - chars: 84 - training examples: 5074\n",
            "\n",
            "\n",
            "Epoch 1/14 started, lr: 0.003, dataset size: 5074\n",
            "\n",
            "\n",
            "Epoch 1/14 - 235.55s - loss: 1793.1072 - batches: 508\n",
            "Quality on validation dataset (20.0%), validation examples = 1014\n",
            "time to finish evaluation: 20.79s\n",
            "label\t tp\t fp\t fn\t prec\t rec\t f1\n",
            "I-Disease\t 1281\t 277\t 219\t 0.822208\t 0.854\t 0.83780247\n",
            "B-Disease\t 1017\t 157\t 216\t 0.8662692\t 0.82481754\t 0.8450353\n",
            "tp: 2298 fp: 434 fn: 435 labels: 2\n",
            "Macro-average\t prec: 0.8442386, rec: 0.83940876, f1: 0.8418167\n",
            "Micro-average\t prec: 0.841142, rec: 0.84083426, f1: 0.8409881\n",
            "\n",
            "\n",
            "Epoch 2/14 started, lr: 0.0029850747, dataset size: 5074\n",
            "\n",
            "\n",
            "Epoch 2/14 - 235.53s - loss: 705.3677 - batches: 508\n",
            "Quality on validation dataset (20.0%), validation examples = 1014\n",
            "time to finish evaluation: 20.13s\n",
            "label\t tp\t fp\t fn\t prec\t rec\t f1\n",
            "I-Disease\t 1315\t 98\t 185\t 0.93064404\t 0.87666667\t 0.9028493\n",
            "B-Disease\t 1070\t 145\t 163\t 0.88065845\t 0.8678021\t 0.874183\n",
            "tp: 2385 fp: 243 fn: 348 labels: 2\n",
            "Macro-average\t prec: 0.9056512, rec: 0.87223434, f1: 0.8886288\n",
            "Micro-average\t prec: 0.90753424, rec: 0.8726674, f1: 0.8897593\n",
            "\n",
            "\n",
            "Epoch 3/14 started, lr: 0.0029702971, dataset size: 5074\n",
            "\n",
            "\n",
            "Epoch 3/14 - 239.31s - loss: 493.196 - batches: 508\n",
            "Quality on validation dataset (20.0%), validation examples = 1014\n",
            "time to finish evaluation: 20.32s\n",
            "label\t tp\t fp\t fn\t prec\t rec\t f1\n",
            "I-Disease\t 1270\t 110\t 230\t 0.9202899\t 0.8466667\t 0.8819445\n",
            "B-Disease\t 1051\t 99\t 182\t 0.9139131\t 0.85239255\t 0.8820814\n",
            "tp: 2321 fp: 209 fn: 412 labels: 2\n",
            "Macro-average\t prec: 0.9171015, rec: 0.8495296, f1: 0.8820233\n",
            "Micro-average\t prec: 0.9173913, rec: 0.8492499, f1: 0.88200647\n",
            "\n",
            "\n",
            "Epoch 4/14 started, lr: 0.002955665, dataset size: 5074\n",
            "\n",
            "\n",
            "Epoch 4/14 - 230.52s - loss: 395.41345 - batches: 508\n",
            "Quality on validation dataset (20.0%), validation examples = 1014\n",
            "time to finish evaluation: 20.56s\n",
            "label\t tp\t fp\t fn\t prec\t rec\t f1\n",
            "I-Disease\t 1345\t 224\t 155\t 0.8572339\t 0.89666665\t 0.876507\n",
            "B-Disease\t 1053\t 110\t 180\t 0.905417\t 0.8540146\t 0.8789649\n",
            "tp: 2398 fp: 334 fn: 335 labels: 2\n",
            "Macro-average\t prec: 0.8813255, rec: 0.8753406, f1: 0.87832284\n",
            "Micro-average\t prec: 0.8777453, rec: 0.87742406, f1: 0.87758464\n",
            "\n",
            "\n",
            "Epoch 5/14 started, lr: 0.0029411765, dataset size: 5074\n",
            "\n",
            "\n",
            "Epoch 5/14 - 222.27s - loss: 342.51944 - batches: 508\n",
            "Quality on validation dataset (20.0%), validation examples = 1014\n",
            "time to finish evaluation: 19.89s\n",
            "label\t tp\t fp\t fn\t prec\t rec\t f1\n",
            "I-Disease\t 1335\t 113\t 165\t 0.9219613\t 0.89\t 0.9056988\n",
            "B-Disease\t 1120\t 116\t 113\t 0.90614885\t 0.9083536\t 0.9072499\n",
            "tp: 2455 fp: 229 fn: 278 labels: 2\n",
            "Macro-average\t prec: 0.9140551, rec: 0.89917684, f1: 0.90655494\n",
            "Micro-average\t prec: 0.9146796, rec: 0.89828026, f1: 0.90640575\n",
            "\n",
            "\n",
            "Epoch 6/14 started, lr: 0.0029268293, dataset size: 5074\n",
            "\n",
            "\n",
            "Epoch 6/14 - 221.62s - loss: 304.27203 - batches: 508\n",
            "Quality on validation dataset (20.0%), validation examples = 1014\n",
            "time to finish evaluation: 20.33s\n",
            "label\t tp\t fp\t fn\t prec\t rec\t f1\n",
            "I-Disease\t 1343\t 124\t 157\t 0.91547376\t 0.89533335\t 0.9052915\n",
            "B-Disease\t 1087\t 83\t 146\t 0.9290598\t 0.8815896\t 0.9047025\n",
            "tp: 2430 fp: 207 fn: 303 labels: 2\n",
            "Macro-average\t prec: 0.9222668, rec: 0.8884615, f1: 0.90504855\n",
            "Micro-average\t prec: 0.9215017, rec: 0.8891328, f1: 0.9050279\n",
            "\n",
            "\n",
            "Epoch 7/14 started, lr: 0.0029126215, dataset size: 5074\n",
            "\n",
            "\n",
            "Epoch 7/14 - 223.55s - loss: 259.72195 - batches: 508\n",
            "Quality on validation dataset (20.0%), validation examples = 1014\n",
            "time to finish evaluation: 23.75s\n",
            "label\t tp\t fp\t fn\t prec\t rec\t f1\n",
            "I-Disease\t 1401\t 227\t 99\t 0.8605651\t 0.934\t 0.8957801\n",
            "B-Disease\t 1131\t 138\t 102\t 0.89125293\t 0.91727495\t 0.90407676\n",
            "tp: 2532 fp: 365 fn: 201 labels: 2\n",
            "Macro-average\t prec: 0.87590903, rec: 0.9256375, f1: 0.9000869\n",
            "Micro-average\t prec: 0.8740076, rec: 0.9264544, f1: 0.8994671\n",
            "\n",
            "\n",
            "Epoch 8/14 started, lr: 0.0028985508, dataset size: 5074\n",
            "\n",
            "\n",
            "Epoch 8/14 - 220.78s - loss: 259.23047 - batches: 508\n",
            "Quality on validation dataset (20.0%), validation examples = 1014\n",
            "time to finish evaluation: 20.36s\n",
            "label\t tp\t fp\t fn\t prec\t rec\t f1\n",
            "I-Disease\t 1386\t 213\t 114\t 0.8667917\t 0.924\t 0.89448214\n",
            "B-Disease\t 1103\t 119\t 130\t 0.90261865\t 0.8945661\t 0.8985744\n",
            "tp: 2489 fp: 332 fn: 244 labels: 2\n",
            "Macro-average\t prec: 0.8847052, rec: 0.90928304, f1: 0.89682573\n",
            "Micro-average\t prec: 0.8823112, rec: 0.9107208, f1: 0.89629096\n",
            "\n",
            "\n",
            "Epoch 9/14 started, lr: 0.0028846154, dataset size: 5074\n",
            "\n",
            "\n",
            "Epoch 9/14 - 223.78s - loss: 247.60341 - batches: 508\n",
            "Quality on validation dataset (20.0%), validation examples = 1014\n",
            "time to finish evaluation: 20.14s\n",
            "label\t tp\t fp\t fn\t prec\t rec\t f1\n",
            "I-Disease\t 1416\t 300\t 84\t 0.8251748\t 0.944\t 0.880597\n",
            "B-Disease\t 1119\t 140\t 114\t 0.8888006\t 0.9075426\t 0.89807385\n",
            "tp: 2535 fp: 440 fn: 198 labels: 2\n",
            "Macro-average\t prec: 0.8569877, rec: 0.9257713, f1: 0.89005256\n",
            "Micro-average\t prec: 0.85210085, rec: 0.92755216, f1: 0.888227\n",
            "\n",
            "\n",
            "Epoch 10/14 started, lr: 0.0028708135, dataset size: 5074\n",
            "\n",
            "\n",
            "Epoch 10/14 - 231.96s - loss: 245.36414 - batches: 508\n",
            "Quality on validation dataset (20.0%), validation examples = 1014\n",
            "time to finish evaluation: 20.16s\n",
            "label\t tp\t fp\t fn\t prec\t rec\t f1\n",
            "I-Disease\t 1366\t 111\t 134\t 0.92484766\t 0.91066664\t 0.9177024\n",
            "B-Disease\t 1092\t 86\t 141\t 0.9269949\t 0.8856448\t 0.9058482\n",
            "tp: 2458 fp: 197 fn: 275 labels: 2\n",
            "Macro-average\t prec: 0.9259213, rec: 0.8981557, f1: 0.9118272\n",
            "Micro-average\t prec: 0.9258004, rec: 0.899378, f1: 0.912398\n",
            "\n",
            "\n",
            "Epoch 11/14 started, lr: 0.002857143, dataset size: 5074\n",
            "\n",
            "\n",
            "Epoch 11/14 - 230.17s - loss: 207.27318 - batches: 508\n",
            "Quality on validation dataset (20.0%), validation examples = 1014\n",
            "time to finish evaluation: 19.81s\n",
            "label\t tp\t fp\t fn\t prec\t rec\t f1\n",
            "I-Disease\t 1380\t 236\t 120\t 0.8539604\t 0.92\t 0.885751\n",
            "B-Disease\t 1127\t 129\t 106\t 0.897293\t 0.9140308\t 0.9055846\n",
            "tp: 2507 fp: 365 fn: 226 labels: 2\n",
            "Macro-average\t prec: 0.8756267, rec: 0.91701543, f1: 0.89584327\n",
            "Micro-average\t prec: 0.87291086, rec: 0.91730696, f1: 0.89455837\n",
            "\n",
            "\n",
            "Epoch 12/14 started, lr: 0.002843602, dataset size: 5074\n",
            "\n",
            "\n",
            "Epoch 12/14 - 226.30s - loss: 201.90794 - batches: 508\n",
            "Quality on validation dataset (20.0%), validation examples = 1014\n",
            "time to finish evaluation: 19.90s\n",
            "label\t tp\t fp\t fn\t prec\t rec\t f1\n",
            "I-Disease\t 1376\t 138\t 124\t 0.9088507\t 0.9173333\t 0.9130723\n",
            "B-Disease\t 1130\t 105\t 103\t 0.91497976\t 0.9164639\t 0.91572124\n",
            "tp: 2506 fp: 243 fn: 227 labels: 2\n",
            "Macro-average\t prec: 0.91191524, rec: 0.9168986, f1: 0.91440016\n",
            "Micro-average\t prec: 0.9116042, rec: 0.9169411, f1: 0.91426486\n",
            "\n",
            "\n",
            "Epoch 13/14 started, lr: 0.002830189, dataset size: 5074\n",
            "\n",
            "\n",
            "Epoch 13/14 - 225.10s - loss: 182.1159 - batches: 508\n",
            "Quality on validation dataset (20.0%), validation examples = 1014\n",
            "time to finish evaluation: 19.49s\n",
            "label\t tp\t fp\t fn\t prec\t rec\t f1\n",
            "I-Disease\t 1343\t 106\t 157\t 0.9268461\t 0.89533335\t 0.9108172\n",
            "B-Disease\t 1110\t 91\t 123\t 0.9242298\t 0.9002433\t 0.91207886\n",
            "tp: 2453 fp: 197 fn: 280 labels: 2\n",
            "Macro-average\t prec: 0.92553794, rec: 0.8977883, f1: 0.911452\n",
            "Micro-average\t prec: 0.9256604, rec: 0.8975485, f1: 0.91138774\n",
            "\n",
            "\n",
            "Epoch 14/14 started, lr: 0.0028169013, dataset size: 5074\n",
            "\n",
            "\n",
            "Epoch 14/14 - 225.34s - loss: 181.92319 - batches: 508\n",
            "Quality on validation dataset (20.0%), validation examples = 1014\n",
            "time to finish evaluation: 19.61s\n",
            "label\t tp\t fp\t fn\t prec\t rec\t f1\n",
            "I-Disease\t 1377\t 158\t 123\t 0.8970684\t 0.918\t 0.9074135\n",
            "B-Disease\t 1123\t 110\t 110\t 0.9107867\t 0.9107867\t 0.9107867\n",
            "tp: 2500 fp: 268 fn: 233 labels: 2\n",
            "Macro-average\t prec: 0.90392756, rec: 0.9143933, f1: 0.9091303\n",
            "Micro-average\t prec: 0.90317917, rec: 0.9147457, f1: 0.90892565\n"
          ]
        }
      ]
    },
    {
      "cell_type": "markdown",
      "source": [
        "### Test Evaluation"
      ],
      "metadata": {
        "id": "IYuj_7D97PVj"
      }
    },
    {
      "cell_type": "code",
      "source": [
        "predictions = ner_model.transform(test_data)"
      ],
      "metadata": {
        "id": "SffXmbGLWQjP"
      },
      "execution_count": null,
      "outputs": []
    },
    {
      "cell_type": "code",
      "source": [
        "from sklearn.metrics import classification_report\n",
        "\n",
        "preds_df = predictions.select(F.explode(F.arrays_zip('token.result','label.result','ner.result')).alias(\"cols\")) \\\n",
        ".select(F.expr(\"cols['0']\").alias(\"token\"),\n",
        "        F.expr(\"cols['1']\").alias(\"ground_truth\"),\n",
        "        F.expr(\"cols['2']\").alias(\"prediction\")).toPandas()\n",
        "\n",
        "print (classification_report(preds_df['ground_truth'], preds_df['prediction']))"
      ],
      "metadata": {
        "id": "88x3liNXWQlx",
        "colab": {
          "base_uri": "https://localhost:8080/"
        },
        "outputId": "f74a8898-0d60-47ec-fbca-36e5ec51918d"
      },
      "execution_count": null,
      "outputs": [
        {
          "output_type": "stream",
          "name": "stdout",
          "text": [
            "              precision    recall  f1-score   support\n",
            "\n",
            "   B-Disease       0.86      0.85      0.85       960\n",
            "   I-Disease       0.80      0.89      0.84      1087\n",
            "           O       0.99      0.99      0.99     22450\n",
            "\n",
            "    accuracy                           0.98     24497\n",
            "   macro avg       0.88      0.91      0.90     24497\n",
            "weighted avg       0.98      0.98      0.98     24497\n",
            "\n"
          ]
        }
      ]
    },
    {
      "cell_type": "markdown",
      "source": [
        "### Train Evaluation"
      ],
      "metadata": {
        "id": "UBUnLYQw7V2j"
      }
    },
    {
      "cell_type": "code",
      "source": [
        "predictions_train = ner_model.transform(train_data)\n",
        "\n",
        "preds_df = predictions_train.select(F.explode(F.arrays_zip('token.result','label.result','ner.result')).alias(\"cols\")) \\\n",
        ".select(F.expr(\"cols['0']\").alias(\"token\"),\n",
        "        F.expr(\"cols['1']\").alias(\"ground_truth\"),\n",
        "        F.expr(\"cols['2']\").alias(\"prediction\")).toPandas()\n",
        "\n",
        "print (classification_report(preds_df['ground_truth'], preds_df['prediction']))"
      ],
      "metadata": {
        "id": "K1QJF7ZCWQoT",
        "colab": {
          "base_uri": "https://localhost:8080/"
        },
        "outputId": "5e058478-2c3d-40c6-8c3c-2cfaecba4c01"
      },
      "execution_count": null,
      "outputs": [
        {
          "output_type": "stream",
          "name": "stdout",
          "text": [
            "              precision    recall  f1-score   support\n",
            "\n",
            "   B-Disease       0.96      0.96      0.96      5921\n",
            "   I-Disease       0.96      0.97      0.96      7205\n",
            "           O       1.00      1.00      1.00    146544\n",
            "\n",
            "    accuracy                           0.99    159670\n",
            "   macro avg       0.97      0.98      0.97    159670\n",
            "weighted avg       0.99      0.99      0.99    159670\n",
            "\n"
          ]
        }
      ]
    },
    {
      "cell_type": "markdown",
      "source": [
        "### Saving Trained Model"
      ],
      "metadata": {
        "id": "7WXztHBf84Eu"
      }
    },
    {
      "cell_type": "code",
      "source": [
        "ner_model.stages"
      ],
      "metadata": {
        "id": "geZeq60sOhq8",
        "colab": {
          "base_uri": "https://localhost:8080/"
        },
        "outputId": "39abed51-a592-408d-8bc3-5d88839ee36a"
      },
      "execution_count": null,
      "outputs": [
        {
          "output_type": "execute_result",
          "data": {
            "text/plain": [
              "[WORD_EMBEDDINGS_MODEL_48cffc8b9a76, NerDLModel_369ae72918d4]"
            ]
          },
          "metadata": {},
          "execution_count": 20
        }
      ]
    },
    {
      "cell_type": "code",
      "source": [
        "ner_model.stages[1].write().overwrite().save(\"NER_glove_100d_e14_b10\")"
      ],
      "metadata": {
        "id": "t4sxvCrROlxA"
      },
      "execution_count": null,
      "outputs": []
    },
    {
      "cell_type": "markdown",
      "source": [
        "# Prediction Pipeline"
      ],
      "metadata": {
        "id": "Qxp-I-sT8sbJ"
      }
    },
    {
      "cell_type": "code",
      "source": [
        "document = DocumentAssembler()\\\n",
        "    .setInputCol(\"text\")\\\n",
        "    .setOutputCol(\"document\")\n",
        "\n",
        "sentence = SentenceDetector()\\\n",
        "    .setInputCols(['document'])\\\n",
        "    .setOutputCol('sentence')\n",
        "\n",
        "token = Tokenizer()\\\n",
        "    .setInputCols(['sentence'])\\\n",
        "    .setOutputCol('token')\n",
        "glove_embeddings = WordEmbeddingsModel.pretrained()\\\n",
        "    .setInputCols([\"document\", \"token\"])\\\n",
        "    .setOutputCol(\"embeddings\")\n",
        "\n",
        "loaded_ner_model = NerDLModel.load(\"NER_glove_100d_e14_b10\")\\\n",
        "    .setInputCols([\"sentence\", \"token\", \"embeddings\"])\\\n",
        "    .setOutputCol(\"ner\")\n",
        "\n",
        "converter = NerConverter()\\\n",
        "    .setInputCols([\"document\", \"token\", \"ner\"])\\\n",
        "    .setOutputCol(\"ner_span\")\n",
        "\n",
        "ner_prediction_pipeline = Pipeline(stages = [\n",
        "      document,\n",
        "      sentence,\n",
        "      token,\n",
        "      glove_embeddings,\n",
        "      loaded_ner_model,\n",
        "      converter\n",
        "  ])\n",
        "\n",
        "empty_data = spark.createDataFrame([['']]).toDF(\"text\")\n",
        "\n",
        "prediction_model = ner_prediction_pipeline.fit(empty_data)\n"
      ],
      "metadata": {
        "colab": {
          "base_uri": "https://localhost:8080/"
        },
        "id": "RCtJeOxEnd1k",
        "outputId": "3e33fd21-7cf9-40be-a6e5-d3b00ca39564"
      },
      "execution_count": null,
      "outputs": [
        {
          "output_type": "stream",
          "name": "stdout",
          "text": [
            "glove_100d download started this may take some time.\n",
            "Approximate size to download 145.3 MB\n",
            "[OK!]\n"
          ]
        }
      ]
    },
    {
      "cell_type": "code",
      "source": [
        "text = '''\n",
        "A 28-year-old female with a history of gestational diabetes mellitus diagnosed eight years prior to presentation and subsequent type two diabetes mellitus ( T2DM ), one prior episode of HTG-induced pancreatitis three years prior to presentation , associated with an acute hepatitis , and obesity with a body mass index ( BMI ) of 33.5 kg/m2 , presented with a one-week history of polyuria , polydipsia , poor appetite , and vomiting .\n",
        "'''\n",
        "sample_data = spark.createDataFrame([[text]]).toDF(\"text\")\n",
        "\n",
        "sample_data.show(truncate=100)"
      ],
      "metadata": {
        "colab": {
          "base_uri": "https://localhost:8080/"
        },
        "id": "kxh_X-QET2do",
        "outputId": "c08e1c5a-4891-4f06-d91f-13da05794fc6"
      },
      "execution_count": null,
      "outputs": [
        {
          "output_type": "stream",
          "name": "stdout",
          "text": [
            "+----------------------------------------------------------------------------------------------------+\n",
            "|                                                                                                text|\n",
            "+----------------------------------------------------------------------------------------------------+\n",
            "|\n",
            "A 28-year-old female with a history of gestational diabetes mellitus diagnosed eight years prior...|\n",
            "+----------------------------------------------------------------------------------------------------+\n",
            "\n"
          ]
        }
      ]
    },
    {
      "cell_type": "code",
      "source": [
        "import pyspark.sql.functions as F\n",
        "\n",
        "preds = prediction_model.transform(sample_data)\n",
        "\n",
        "result_df = preds.select(F.explode(F.arrays_zip(\"ner_span.result\",\"ner_span.metadata\")).alias(\"entities\")) \\\n",
        "                .select(F.expr(\"entities['0']\").alias(\"chunk\"),\n",
        "                        F.expr(\"entities['1'].entity\").alias(\"entity\")).show(truncate=False)\n"
      ],
      "metadata": {
        "colab": {
          "base_uri": "https://localhost:8080/"
        },
        "id": "KhuNqp1tPATX",
        "outputId": "234b94b2-ee8b-42f3-efbb-36f29d4f437e"
      },
      "execution_count": null,
      "outputs": [
        {
          "output_type": "stream",
          "name": "stdout",
          "text": [
            "+-----------------------------+-------+\n",
            "|chunk                        |entity |\n",
            "+-----------------------------+-------+\n",
            "|gestational diabetes mellitus|Disease|\n",
            "|diabetes mellitus            |Disease|\n",
            "|T2DM                         |Disease|\n",
            "|HTG-induced pancreatitis     |Disease|\n",
            "|acute hepatitis              |Disease|\n",
            "|obesity                      |Disease|\n",
            "|polyuria                     |Disease|\n",
            "|polydipsia                   |Disease|\n",
            "|poor appetite                |Disease|\n",
            "|vomiting                     |Disease|\n",
            "+-----------------------------+-------+\n",
            "\n"
          ]
        }
      ]
    },
    {
      "cell_type": "code",
      "source": [
        "from sparknlp.base import LightPipeline\n",
        "\n",
        "light_model = LightPipeline(prediction_model)\n",
        "\n",
        "result = light_model.annotate(text)\n",
        "\n",
        "list(zip(result['token'], result['ner']))"
      ],
      "metadata": {
        "id": "2ykJt4WIPFCJ",
        "colab": {
          "base_uri": "https://localhost:8080/"
        },
        "outputId": "a39bcffe-432c-4ac0-ec94-d42aaaa075e9"
      },
      "execution_count": null,
      "outputs": [
        {
          "output_type": "execute_result",
          "data": {
            "text/plain": [
              "[('A', 'O'),\n",
              " ('28-year-old', 'O'),\n",
              " ('female', 'O'),\n",
              " ('with', 'O'),\n",
              " ('a', 'O'),\n",
              " ('history', 'O'),\n",
              " ('of', 'O'),\n",
              " ('gestational', 'B-Disease'),\n",
              " ('diabetes', 'I-Disease'),\n",
              " ('mellitus', 'I-Disease'),\n",
              " ('diagnosed', 'O'),\n",
              " ('eight', 'O'),\n",
              " ('years', 'O'),\n",
              " ('prior', 'O'),\n",
              " ('to', 'O'),\n",
              " ('presentation', 'O'),\n",
              " ('and', 'O'),\n",
              " ('subsequent', 'O'),\n",
              " ('type', 'O'),\n",
              " ('two', 'O'),\n",
              " ('diabetes', 'B-Disease'),\n",
              " ('mellitus', 'I-Disease'),\n",
              " ('(', 'O'),\n",
              " ('T2DM', 'B-Disease'),\n",
              " ('),', 'O'),\n",
              " ('one', 'O'),\n",
              " ('prior', 'O'),\n",
              " ('episode', 'O'),\n",
              " ('of', 'O'),\n",
              " ('HTG-induced', 'B-Disease'),\n",
              " ('pancreatitis', 'I-Disease'),\n",
              " ('three', 'O'),\n",
              " ('years', 'O'),\n",
              " ('prior', 'O'),\n",
              " ('to', 'O'),\n",
              " ('presentation', 'O'),\n",
              " (',', 'O'),\n",
              " ('associated', 'O'),\n",
              " ('with', 'O'),\n",
              " ('an', 'O'),\n",
              " ('acute', 'B-Disease'),\n",
              " ('hepatitis', 'I-Disease'),\n",
              " (',', 'O'),\n",
              " ('and', 'O'),\n",
              " ('obesity', 'B-Disease'),\n",
              " ('with', 'O'),\n",
              " ('a', 'O'),\n",
              " ('body', 'O'),\n",
              " ('mass', 'O'),\n",
              " ('index', 'O'),\n",
              " ('(', 'O'),\n",
              " ('BMI', 'O'),\n",
              " (')', 'O'),\n",
              " ('of', 'O'),\n",
              " ('33.5', 'O'),\n",
              " ('kg/m2', 'O'),\n",
              " (',', 'O'),\n",
              " ('presented', 'O'),\n",
              " ('with', 'O'),\n",
              " ('a', 'O'),\n",
              " ('one-week', 'O'),\n",
              " ('history', 'O'),\n",
              " ('of', 'O'),\n",
              " ('polyuria', 'B-Disease'),\n",
              " (',', 'O'),\n",
              " ('polydipsia', 'B-Disease'),\n",
              " (',', 'O'),\n",
              " ('poor', 'B-Disease'),\n",
              " ('appetite', 'I-Disease'),\n",
              " (',', 'O'),\n",
              " ('and', 'O'),\n",
              " ('vomiting', 'B-Disease'),\n",
              " ('.', 'O')]"
            ]
          },
          "metadata": {},
          "execution_count": 26
        }
      ]
    },
    {
      "cell_type": "code",
      "source": [
        "import pandas as pd\n",
        "\n",
        "result = light_model.fullAnnotate(text)\n",
        "\n",
        "ner_df= pd.DataFrame([(int(x.metadata['sentence']), x.result, x.begin, x.end, y.result) for x,y in zip(result[0][\"token\"], result[0][\"ner\"])], \n",
        "                      columns=['sent_id','token','start','end','ner'])\n",
        "ner_df.head(10)"
      ],
      "metadata": {
        "colab": {
          "base_uri": "https://localhost:8080/",
          "height": 363
        },
        "id": "zzuWY13tPFHt",
        "outputId": "bf1791c5-80a4-4ef4-f3b6-93cc2d1447a0"
      },
      "execution_count": null,
      "outputs": [
        {
          "output_type": "execute_result",
          "data": {
            "text/html": [
              "\n",
              "  <div id=\"df-fb48a6dc-3413-4c1d-8b98-b71a409098b6\">\n",
              "    <div class=\"colab-df-container\">\n",
              "      <div>\n",
              "<style scoped>\n",
              "    .dataframe tbody tr th:only-of-type {\n",
              "        vertical-align: middle;\n",
              "    }\n",
              "\n",
              "    .dataframe tbody tr th {\n",
              "        vertical-align: top;\n",
              "    }\n",
              "\n",
              "    .dataframe thead th {\n",
              "        text-align: right;\n",
              "    }\n",
              "</style>\n",
              "<table border=\"1\" class=\"dataframe\">\n",
              "  <thead>\n",
              "    <tr style=\"text-align: right;\">\n",
              "      <th></th>\n",
              "      <th>sent_id</th>\n",
              "      <th>token</th>\n",
              "      <th>start</th>\n",
              "      <th>end</th>\n",
              "      <th>ner</th>\n",
              "    </tr>\n",
              "  </thead>\n",
              "  <tbody>\n",
              "    <tr>\n",
              "      <th>0</th>\n",
              "      <td>0</td>\n",
              "      <td>A</td>\n",
              "      <td>1</td>\n",
              "      <td>1</td>\n",
              "      <td>O</td>\n",
              "    </tr>\n",
              "    <tr>\n",
              "      <th>1</th>\n",
              "      <td>0</td>\n",
              "      <td>28-year-old</td>\n",
              "      <td>3</td>\n",
              "      <td>13</td>\n",
              "      <td>O</td>\n",
              "    </tr>\n",
              "    <tr>\n",
              "      <th>2</th>\n",
              "      <td>0</td>\n",
              "      <td>female</td>\n",
              "      <td>15</td>\n",
              "      <td>20</td>\n",
              "      <td>O</td>\n",
              "    </tr>\n",
              "    <tr>\n",
              "      <th>3</th>\n",
              "      <td>0</td>\n",
              "      <td>with</td>\n",
              "      <td>22</td>\n",
              "      <td>25</td>\n",
              "      <td>O</td>\n",
              "    </tr>\n",
              "    <tr>\n",
              "      <th>4</th>\n",
              "      <td>0</td>\n",
              "      <td>a</td>\n",
              "      <td>27</td>\n",
              "      <td>27</td>\n",
              "      <td>O</td>\n",
              "    </tr>\n",
              "    <tr>\n",
              "      <th>5</th>\n",
              "      <td>0</td>\n",
              "      <td>history</td>\n",
              "      <td>29</td>\n",
              "      <td>35</td>\n",
              "      <td>O</td>\n",
              "    </tr>\n",
              "    <tr>\n",
              "      <th>6</th>\n",
              "      <td>0</td>\n",
              "      <td>of</td>\n",
              "      <td>37</td>\n",
              "      <td>38</td>\n",
              "      <td>O</td>\n",
              "    </tr>\n",
              "    <tr>\n",
              "      <th>7</th>\n",
              "      <td>0</td>\n",
              "      <td>gestational</td>\n",
              "      <td>40</td>\n",
              "      <td>50</td>\n",
              "      <td>B-Disease</td>\n",
              "    </tr>\n",
              "    <tr>\n",
              "      <th>8</th>\n",
              "      <td>0</td>\n",
              "      <td>diabetes</td>\n",
              "      <td>52</td>\n",
              "      <td>59</td>\n",
              "      <td>I-Disease</td>\n",
              "    </tr>\n",
              "    <tr>\n",
              "      <th>9</th>\n",
              "      <td>0</td>\n",
              "      <td>mellitus</td>\n",
              "      <td>61</td>\n",
              "      <td>68</td>\n",
              "      <td>I-Disease</td>\n",
              "    </tr>\n",
              "  </tbody>\n",
              "</table>\n",
              "</div>\n",
              "      <button class=\"colab-df-convert\" onclick=\"convertToInteractive('df-fb48a6dc-3413-4c1d-8b98-b71a409098b6')\"\n",
              "              title=\"Convert this dataframe to an interactive table.\"\n",
              "              style=\"display:none;\">\n",
              "        \n",
              "  <svg xmlns=\"http://www.w3.org/2000/svg\" height=\"24px\"viewBox=\"0 0 24 24\"\n",
              "       width=\"24px\">\n",
              "    <path d=\"M0 0h24v24H0V0z\" fill=\"none\"/>\n",
              "    <path d=\"M18.56 5.44l.94 2.06.94-2.06 2.06-.94-2.06-.94-.94-2.06-.94 2.06-2.06.94zm-11 1L8.5 8.5l.94-2.06 2.06-.94-2.06-.94L8.5 2.5l-.94 2.06-2.06.94zm10 10l.94 2.06.94-2.06 2.06-.94-2.06-.94-.94-2.06-.94 2.06-2.06.94z\"/><path d=\"M17.41 7.96l-1.37-1.37c-.4-.4-.92-.59-1.43-.59-.52 0-1.04.2-1.43.59L10.3 9.45l-7.72 7.72c-.78.78-.78 2.05 0 2.83L4 21.41c.39.39.9.59 1.41.59.51 0 1.02-.2 1.41-.59l7.78-7.78 2.81-2.81c.8-.78.8-2.07 0-2.86zM5.41 20L4 18.59l7.72-7.72 1.47 1.35L5.41 20z\"/>\n",
              "  </svg>\n",
              "      </button>\n",
              "      \n",
              "  <style>\n",
              "    .colab-df-container {\n",
              "      display:flex;\n",
              "      flex-wrap:wrap;\n",
              "      gap: 12px;\n",
              "    }\n",
              "\n",
              "    .colab-df-convert {\n",
              "      background-color: #E8F0FE;\n",
              "      border: none;\n",
              "      border-radius: 50%;\n",
              "      cursor: pointer;\n",
              "      display: none;\n",
              "      fill: #1967D2;\n",
              "      height: 32px;\n",
              "      padding: 0 0 0 0;\n",
              "      width: 32px;\n",
              "    }\n",
              "\n",
              "    .colab-df-convert:hover {\n",
              "      background-color: #E2EBFA;\n",
              "      box-shadow: 0px 1px 2px rgba(60, 64, 67, 0.3), 0px 1px 3px 1px rgba(60, 64, 67, 0.15);\n",
              "      fill: #174EA6;\n",
              "    }\n",
              "\n",
              "    [theme=dark] .colab-df-convert {\n",
              "      background-color: #3B4455;\n",
              "      fill: #D2E3FC;\n",
              "    }\n",
              "\n",
              "    [theme=dark] .colab-df-convert:hover {\n",
              "      background-color: #434B5C;\n",
              "      box-shadow: 0px 1px 3px 1px rgba(0, 0, 0, 0.15);\n",
              "      filter: drop-shadow(0px 1px 2px rgba(0, 0, 0, 0.3));\n",
              "      fill: #FFFFFF;\n",
              "    }\n",
              "  </style>\n",
              "\n",
              "      <script>\n",
              "        const buttonEl =\n",
              "          document.querySelector('#df-fb48a6dc-3413-4c1d-8b98-b71a409098b6 button.colab-df-convert');\n",
              "        buttonEl.style.display =\n",
              "          google.colab.kernel.accessAllowed ? 'block' : 'none';\n",
              "\n",
              "        async function convertToInteractive(key) {\n",
              "          const element = document.querySelector('#df-fb48a6dc-3413-4c1d-8b98-b71a409098b6');\n",
              "          const dataTable =\n",
              "            await google.colab.kernel.invokeFunction('convertToInteractive',\n",
              "                                                     [key], {});\n",
              "          if (!dataTable) return;\n",
              "\n",
              "          const docLinkHtml = 'Like what you see? Visit the ' +\n",
              "            '<a target=\"_blank\" href=https://colab.research.google.com/notebooks/data_table.ipynb>data table notebook</a>'\n",
              "            + ' to learn more about interactive tables.';\n",
              "          element.innerHTML = '';\n",
              "          dataTable['output_type'] = 'display_data';\n",
              "          await google.colab.output.renderOutput(dataTable, element);\n",
              "          const docLink = document.createElement('div');\n",
              "          docLink.innerHTML = docLinkHtml;\n",
              "          element.appendChild(docLink);\n",
              "        }\n",
              "      </script>\n",
              "    </div>\n",
              "  </div>\n",
              "  "
            ],
            "text/plain": [
              "   sent_id        token  start  end        ner\n",
              "0        0            A      1    1          O\n",
              "1        0  28-year-old      3   13          O\n",
              "2        0       female     15   20          O\n",
              "3        0         with     22   25          O\n",
              "4        0            a     27   27          O\n",
              "5        0      history     29   35          O\n",
              "6        0           of     37   38          O\n",
              "7        0  gestational     40   50  B-Disease\n",
              "8        0     diabetes     52   59  I-Disease\n",
              "9        0     mellitus     61   68  I-Disease"
            ]
          },
          "metadata": {},
          "execution_count": 27
        }
      ]
    },
    {
      "cell_type": "markdown",
      "source": [
        "## Highlight Entities"
      ],
      "metadata": {
        "id": "WEgX4xJB8_Lb"
      }
    },
    {
      "cell_type": "code",
      "source": [
        "ann_text = light_model.fullAnnotate(text)[0]\n",
        "ann_text.keys()"
      ],
      "metadata": {
        "colab": {
          "base_uri": "https://localhost:8080/"
        },
        "id": "N5xoOTIp8nmb",
        "outputId": "dddf8602-a81a-4412-92b5-b61002b121ba"
      },
      "execution_count": null,
      "outputs": [
        {
          "output_type": "execute_result",
          "data": {
            "text/plain": [
              "dict_keys(['document', 'ner_span', 'token', 'ner', 'embeddings', 'sentence'])"
            ]
          },
          "metadata": {},
          "execution_count": 28
        }
      ]
    },
    {
      "cell_type": "code",
      "source": [
        "from sparknlp_display import NerVisualizer\n",
        "\n",
        "visualiser = NerVisualizer()\n",
        "\n",
        "visualiser.display(ann_text, label_col='ner_span', document_col='document')"
      ],
      "metadata": {
        "colab": {
          "base_uri": "https://localhost:8080/",
          "height": 325
        },
        "id": "ra1LKH4U8nGz",
        "outputId": "66cc2ffa-fe70-4851-ec53-93e2375a550b"
      },
      "execution_count": null,
      "outputs": [
        {
          "output_type": "display_data",
          "data": {
            "text/html": [
              "\n",
              "<style>\n",
              "    @import url('https://fonts.googleapis.com/css2?family=Montserrat:wght@300;400;500;600;700&display=swap');\n",
              "    @import url('https://fonts.googleapis.com/css2?family=Vistol Regular:wght@300;400;500;600;700&display=swap');\n",
              "    \n",
              "    .spark-nlp-display-scroll-entities {\n",
              "        border: 1px solid #E7EDF0;\n",
              "        border-radius: 3px;\n",
              "        text-align: justify;\n",
              "        \n",
              "    }\n",
              "    .spark-nlp-display-scroll-entities span {  \n",
              "        font-size: 14px;\n",
              "        line-height: 24px;\n",
              "        color: #536B76;\n",
              "        font-family: 'Montserrat', sans-serif !important;\n",
              "    }\n",
              "    \n",
              "    .spark-nlp-display-entity-wrapper{\n",
              "    \n",
              "        display: inline-grid;\n",
              "        text-align: center;\n",
              "        border-radius: 4px;\n",
              "        margin: 0 2px 5px 2px;\n",
              "        padding: 1px\n",
              "    }\n",
              "    .spark-nlp-display-entity-name{\n",
              "        font-size: 14px;\n",
              "        line-height: 24px;\n",
              "        font-family: 'Montserrat', sans-serif !important;\n",
              "        \n",
              "        background: #f1f2f3;\n",
              "        border-width: medium;\n",
              "        text-align: center;\n",
              "        \n",
              "        font-weight: 400;\n",
              "        \n",
              "        border-radius: 5px;\n",
              "        padding: 2px 5px;\n",
              "        display: block;\n",
              "        margin: 3px 2px;\n",
              "    \n",
              "    }\n",
              "    .spark-nlp-display-entity-type{\n",
              "        font-size: 14px;\n",
              "        line-height: 24px;\n",
              "        color: #ffffff;\n",
              "        font-family: 'Montserrat', sans-serif !important;\n",
              "        \n",
              "        text-transform: uppercase;\n",
              "        \n",
              "        font-weight: 500;\n",
              "\n",
              "        display: block;\n",
              "        padding: 3px 5px;\n",
              "    }\n",
              "    \n",
              "    .spark-nlp-display-entity-resolution{\n",
              "        font-size: 14px;\n",
              "        line-height: 24px;\n",
              "        color: #ffffff;\n",
              "        font-family: 'Vistol Regular', sans-serif !important;\n",
              "        \n",
              "        text-transform: uppercase;\n",
              "        \n",
              "        font-weight: 500;\n",
              "\n",
              "        display: block;\n",
              "        padding: 3px 5px;\n",
              "    }\n",
              "    \n",
              "    .spark-nlp-display-others{\n",
              "        font-size: 14px;\n",
              "        line-height: 24px;\n",
              "        font-family: 'Montserrat', sans-serif !important;\n",
              "        \n",
              "        font-weight: 400;\n",
              "    }\n",
              "\n",
              "</style>\n",
              " <span class=\"spark-nlp-display-others\" style=\"background-color: white\"><br>A 28-year-old female with a history of </span><span class=\"spark-nlp-display-entity-wrapper\" style=\"background-color: #9CB700\"><span class=\"spark-nlp-display-entity-name\">gestational diabetes mellitus </span><span class=\"spark-nlp-display-entity-type\">Disease</span></span><span class=\"spark-nlp-display-others\" style=\"background-color: white\"> diagnosed eight years prior to presentation and subsequent type two </span><span class=\"spark-nlp-display-entity-wrapper\" style=\"background-color: #9CB700\"><span class=\"spark-nlp-display-entity-name\">diabetes mellitus </span><span class=\"spark-nlp-display-entity-type\">Disease</span></span><span class=\"spark-nlp-display-others\" style=\"background-color: white\"> ( </span><span class=\"spark-nlp-display-entity-wrapper\" style=\"background-color: #9CB700\"><span class=\"spark-nlp-display-entity-name\">T2DM </span><span class=\"spark-nlp-display-entity-type\">Disease</span></span><span class=\"spark-nlp-display-others\" style=\"background-color: white\"> ), one prior episode of </span><span class=\"spark-nlp-display-entity-wrapper\" style=\"background-color: #9CB700\"><span class=\"spark-nlp-display-entity-name\">HTG-induced pancreatitis </span><span class=\"spark-nlp-display-entity-type\">Disease</span></span><span class=\"spark-nlp-display-others\" style=\"background-color: white\"> three years prior to presentation , associated with an </span><span class=\"spark-nlp-display-entity-wrapper\" style=\"background-color: #9CB700\"><span class=\"spark-nlp-display-entity-name\">acute hepatitis </span><span class=\"spark-nlp-display-entity-type\">Disease</span></span><span class=\"spark-nlp-display-others\" style=\"background-color: white\"> , and </span><span class=\"spark-nlp-display-entity-wrapper\" style=\"background-color: #9CB700\"><span class=\"spark-nlp-display-entity-name\">obesity </span><span class=\"spark-nlp-display-entity-type\">Disease</span></span><span class=\"spark-nlp-display-others\" style=\"background-color: white\"> with a body mass index ( BMI ) of 33.5 kg/m2 , presented with a one-week history of </span><span class=\"spark-nlp-display-entity-wrapper\" style=\"background-color: #9CB700\"><span class=\"spark-nlp-display-entity-name\">polyuria </span><span class=\"spark-nlp-display-entity-type\">Disease</span></span><span class=\"spark-nlp-display-others\" style=\"background-color: white\"> , </span><span class=\"spark-nlp-display-entity-wrapper\" style=\"background-color: #9CB700\"><span class=\"spark-nlp-display-entity-name\">polydipsia </span><span class=\"spark-nlp-display-entity-type\">Disease</span></span><span class=\"spark-nlp-display-others\" style=\"background-color: white\"> , </span><span class=\"spark-nlp-display-entity-wrapper\" style=\"background-color: #9CB700\"><span class=\"spark-nlp-display-entity-name\">poor appetite </span><span class=\"spark-nlp-display-entity-type\">Disease</span></span><span class=\"spark-nlp-display-others\" style=\"background-color: white\"> , and </span><span class=\"spark-nlp-display-entity-wrapper\" style=\"background-color: #9CB700\"><span class=\"spark-nlp-display-entity-name\">vomiting </span><span class=\"spark-nlp-display-entity-type\">Disease</span></span><span class=\"spark-nlp-display-others\" style=\"background-color: white\"> .<br></span></div>"
            ],
            "text/plain": [
              "<IPython.core.display.HTML object>"
            ]
          },
          "metadata": {}
        }
      ]
    },
    {
      "cell_type": "markdown",
      "source": [
        "# Streamlit"
      ],
      "metadata": {
        "id": "2ewHidpS8gPA"
      }
    },
    {
      "cell_type": "code",
      "source": [
        "!pip install streamlit\n",
        "!pip install pyngrok==4.1.1"
      ],
      "metadata": {
        "id": "0pQRNx0C8kGL"
      },
      "execution_count": null,
      "outputs": []
    },
    {
      "cell_type": "code",
      "source": [
        "%%writefile ner_model.py\n",
        "\n",
        "import streamlit as st\n",
        "import pandas as pd\n",
        "import base64\n",
        "import os\n",
        "\n",
        "import sparknlp\n",
        "from pyspark.ml import Pipeline,PipelineModel\n",
        "from pyspark.sql import SparkSession\n",
        "\n",
        "from sparknlp.annotator import *\n",
        "from sparknlp.base import *\n",
        "\n",
        "from sparknlp_display import NerVisualizer\n",
        "from sparknlp.base import LightPipeline\n",
        "\n",
        "spark = sparknlp.start(gpu = True) \n",
        "\n",
        "\n",
        "HTML_WRAPPER = \"\"\"<div style=\"overflow-x: auto; border: 1px solid #e6e9ef; border-radius: 0.25rem; padding: 1rem; margin-bottom: 2.5rem\">{}</div>\"\"\"\n",
        "\n",
        "st.sidebar.image('https://nlp.johnsnowlabs.com/assets/images/logo.png', use_column_width=True)\n",
        "st.sidebar.header('Choose the pretrained model')\n",
        "select_model = st.sidebar.selectbox(\"\",[\"ner_model_glove_100d\"])\n",
        "\n",
        "st.title(\"Spark NLP NER Model Playground\")\n",
        "\n",
        "#data\n",
        "text1 = \"\"\"The patient is a 78-year-old gentleman with no substantial past medical history except for diabetes. He denies any comorbid complications of the diabetes including kidney disease, heart disease, stroke, vision loss, or neuropathy. At this time, he has been admitted for anemia with hemoglobin of 7.1 and requiring transfusion. He reports that he has no signs or symptom of bleeding and had a blood transfusion approximately two months ago and actually several weeks before that blood transfusion, he had a transfusion for anemia. He has been placed on B12, oral iron, and Procrit. At this time, we are asked to evaluate him for further causes and treatment for his anemia. He denies any constitutional complaints except for fatigue, malaise, and some dyspnea. He has no adenopathy that he reports. No fevers, night sweats, bone pain, rash, arthralgias, or myalgias.\"\"\"\n",
        "text2 = \"\"\"The patient is a 61-year-old woman who presents with a history of biopsy-proven basal cell carcinoma, right and left cheek. She had no prior history of skin cancer. She is status post bilateral cosmetic breast augmentation many years ago and the records are not available for this procedure. She has noted progressive hardening and distortion of the implant. She desires to have the implants removed, capsulectomy and replacement of implants. She would like to go slightly smaller than her current size as she has ptosis going with a smaller implant combined with capsulectomy will result in worsening of her ptosis. She may require a lift. She is not consenting to lift due to the surgical scars.\"\"\"\n",
        "text3 = \"\"\"The patient is a 39-year-old woman returns for followup management of type 1 diabetes mellitus. Her last visit was approximately 4 months ago. Since that time, the patient states her health had been good and her glycemic control had been good, however, within the past 2 weeks she had a pump malfunction, had to get a new pump and was not certain of her pump settings and has been having some difficulty with glycemic control over the past 2 weeks. She is not reporting any severe hypoglycemic events, but is having some difficulty with hyperglycemia both fasting and postprandial. She is not reporting polyuria, polydipsia or polyphagia. She is not exercising at this point and has a diet that is rather typical of woman with twins and a young single child as well. She is working on a full-time basis and so eats on the run a lot, probably eats more than she should and not making the best choices, little time for physical activity. She is keeping up with all her other appointments and has recently had a good eye examination. She had lab work done at her previous visit and this revealed persistent hyperlipidemic state with a LDL of 144.\"\"\"\n",
        "text4 = \"\"\"A 28-year-old female with a history of gestational diabetes mellitus diagnosed eight years prior to presentation and subsequent type two diabetes mellitus ( T2DM ), one prior episode of HTG-induced pancreatitis three years prior to presentation , associated with an acute hepatitis , and obesity with a body mass index ( BMI ) of 33.5 kg/m2 , presented with a one-week history of polyuria , polydipsia , poor appetite , and vomiting .\"\"\"\n",
        "text5 = \"\"\"Nature and course of the diagnosis has been discussed with the patient. Based on her presentation without any history of obvious fall or trauma and past history of malignant melanoma, this appears to be a pathological fracture of the left proximal hip. At the present time, I would recommend obtaining a bone scan and repeat x-rays, which will include AP pelvis, femur, hip including knee. She denies any pain elsewhere. She does have a past history of back pain and sciatica, but at the present time, this appears to be a metastatic bone lesion with pathological fracture. I have discussed the case with Dr.X and recommended oncology consultation. With the above fracture and presentation, she needs a left hip hemiarthroplasty versus calcar hemiarthroplasty, cemented type. Indication, risk, and benefits of left hip hemiarthroplasty has been discussed with the patient, which includes, but not limited to bleeding, infection, nerve injury, blood vessel injury, dislocation early and late, persistent pain, leg length dicrepancy, myositis ossificans, intraoperative fracture, prosthetic fracture, need for conversion to total hip replacement surgery, revision surgery, pulmonary embolism, risk of anesthesia, need for blood transfusion, and cardiac arrest. She understands above and is willing to undergo further procedure. The goal and the functional outcome have been explained. Further plan will be discussed with her once we obtain the bone scan and the radiographic studies. We will also await for the oncology feedback and clearance.\"\"\"\n",
        "\n",
        "sample_text = st.selectbox(\"\",[text1, text2, text3,text4,text5])\n",
        "\n",
        "@st.cache(hash_funcs={\"_thread.RLock\": lambda _: None},allow_output_mutation=True, suppress_st_warning=True)\n",
        "def model_pipeline():\n",
        "    documentAssembler = DocumentAssembler()\\\n",
        "          .setInputCol(\"text\")\\\n",
        "          .setOutputCol(\"document\")\n",
        "\n",
        "    sentenceDetector = SentenceDetector()\\\n",
        "          .setInputCols(['document'])\\\n",
        "          .setOutputCol('sentence')\n",
        "\n",
        "    tokenizer = Tokenizer()\\\n",
        "          .setInputCols(['sentence'])\\\n",
        "          .setOutputCol('token')\n",
        "\n",
        "    gloveEmbeddings = WordEmbeddingsModel.pretrained()\\\n",
        "          .setInputCols([\"document\", \"token\"])\\\n",
        "          .setOutputCol(\"embeddings\")\n",
        "\n",
        "    nerModel = NerDLModel.load(\"/content/drive/MyDrive/NER_glove_100d_e14_b10\")\\\n",
        "          .setInputCols([\"sentence\", \"token\", \"embeddings\"])\\\n",
        "          .setOutputCol(\"ner\")\n",
        "\n",
        "    nerConverter = NerConverter()\\\n",
        "          .setInputCols([\"document\", \"token\", \"ner\"])\\\n",
        "          .setOutputCol(\"ner_chunk\")\n",
        " \n",
        "    pipeline_dict = {\n",
        "          \"documentAssembler\":documentAssembler,\n",
        "          \"sentenceDetector\":sentenceDetector,\n",
        "          \"tokenizer\":tokenizer,\n",
        "          \"gloveEmbeddings\":gloveEmbeddings,\n",
        "          \"nerModel\":nerModel,\n",
        "          \"nerConverter\":nerConverter\n",
        "    }\n",
        "    return pipeline_dict\n",
        "\n",
        "model_dict = model_pipeline()\n",
        "\n",
        "# @st.cache(hash_funcs={\"_thread.RLock\": lambda _: None},allow_output_mutation=True, suppress_st_warning=True)\n",
        "def load_pipeline():\n",
        "    nlp_pipeline = Pipeline(stages=[\n",
        "                   model_dict[\"documentAssembler\"],\n",
        "                   model_dict[\"sentenceDetector\"],\n",
        "                   model_dict[\"tokenizer\"],\n",
        "                   model_dict[\"gloveEmbeddings\"],\n",
        "                   model_dict[\"nerModel\"],\n",
        "                   model_dict[\"nerConverter\"]\n",
        "                   ])\n",
        "\n",
        "    empty_data = spark.createDataFrame([['']]).toDF(\"text\")\n",
        "\n",
        "    model = nlp_pipeline.fit(empty_data)\n",
        "\n",
        "    return model\n",
        "\n",
        "\n",
        "ner_model = load_pipeline()\n",
        "\n",
        "def viz (annotated_text, chunk_col):\n",
        "  raw_html = NerVisualizer().display(annotated_text, chunk_col, return_html=True)\n",
        "  sti = raw_html.find('<style>')\n",
        "  ste = raw_html.find('</style>')+8\n",
        "  st.markdown(raw_html[sti:ste], unsafe_allow_html=True)\n",
        "  st.write(HTML_WRAPPER.format(raw_html[ste:]), unsafe_allow_html=True)\n",
        "\n",
        "\n",
        "def get_entities (ner_pipeline, text):\n",
        "    \n",
        "    light_model = LightPipeline(ner_pipeline)\n",
        "\n",
        "    full_annotated_text = light_model.fullAnnotate(text)[0]\n",
        "\n",
        "    st.write('')\n",
        "    st.subheader('Entities')\n",
        "\n",
        "    chunks=[]\n",
        "    entities=[]\n",
        "    \n",
        "    for n in full_annotated_text[\"ner_chunk\"]:\n",
        "\n",
        "        chunks.append(n.result)\n",
        "        entities.append(n.metadata['entity']) \n",
        "\n",
        "    df = pd.DataFrame({'chunks':chunks, 'entities':entities}).drop_duplicates()\n",
        "\n",
        "    viz (full_annotated_text, \"ner_chunk\")\n",
        "    \n",
        "    st.subheader('Dataframe')\n",
        "\n",
        "    st.table(df)\n",
        "    \n",
        "    return df\n",
        "\n",
        "\n",
        "entities_df  = get_entities (ner_model, sample_text)\n",
        "\n"
      ],
      "metadata": {
        "colab": {
          "base_uri": "https://localhost:8080/"
        },
        "id": "Z1zMwcTt8kIy",
        "outputId": "8e6da43d-702b-4a2c-d796-9ebb0067e7b8"
      },
      "execution_count": null,
      "outputs": [
        {
          "output_type": "stream",
          "name": "stdout",
          "text": [
            "Overwriting ner_model.py\n"
          ]
        }
      ]
    },
    {
      "cell_type": "code",
      "source": [
        "!ngrok authtoken 23n4cKNe5Gt6LrsuDtmAC8u6uHb_2HLjNdbvo2U9M9hNsMkJ2"
      ],
      "metadata": {
        "colab": {
          "base_uri": "https://localhost:8080/"
        },
        "id": "qG2DQWKc8kOr",
        "outputId": "3f696ab8-4ff6-4665-f100-d7fcdfe9487f"
      },
      "execution_count": null,
      "outputs": [
        {
          "output_type": "stream",
          "name": "stdout",
          "text": [
            "Authtoken saved to configuration file: /root/.ngrok2/ngrok.yml\n"
          ]
        }
      ]
    },
    {
      "cell_type": "code",
      "source": [
        "!streamlit run ner_model.py &>/dev/null&"
      ],
      "metadata": {
        "id": "9zoJkRR68kRV"
      },
      "execution_count": null,
      "outputs": []
    },
    {
      "cell_type": "code",
      "source": [
        "from pyngrok import ngrok\n",
        "\n",
        "public_url = ngrok.connect(port='8501')\n",
        "public_url"
      ],
      "metadata": {
        "colab": {
          "base_uri": "https://localhost:8080/",
          "height": 35
        },
        "id": "5oQuZrmE_FIa",
        "outputId": "06dcabcc-c352-44d0-c186-857d87000095"
      },
      "execution_count": null,
      "outputs": [
        {
          "output_type": "execute_result",
          "data": {
            "application/vnd.google.colaboratory.intrinsic+json": {
              "type": "string"
            },
            "text/plain": [
              "'http://295b-35-243-198-185.ngrok.io'"
            ]
          },
          "metadata": {},
          "execution_count": 10
        }
      ]
    }
  ]
}